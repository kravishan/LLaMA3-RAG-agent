{
 "cells": [
  {
   "cell_type": "markdown",
   "id": "17211a8e-46b9-49cc-9719-49d56c9bd109",
   "metadata": {},
   "source": [
    "# LLaMA3 Local RAG agent"
   ]
  },
  {
   "cell_type": "markdown",
   "id": "25719747-5a9e-4d7a-8a73-e4a576ddbe8f",
   "metadata": {},
   "source": [
    "![Drawing](Drawing.png)\n"
   ]
  },
  {
   "cell_type": "markdown",
   "id": "27f94d43-1e08-49a9-b34d-e065de0dd3ca",
   "metadata": {},
   "source": [
    "## Models"
   ]
  },
  {
   "cell_type": "code",
   "execution_count": 5,
   "id": "2b8fa8ca-3326-4702-8867-55eacd8ccebf",
   "metadata": {},
   "outputs": [
    {
     "name": "stdout",
     "output_type": "stream",
     "text": [
      "Collecting langchain-nomic\n",
      "  Downloading langchain_nomic-0.1.2-py3-none-any.whl.metadata (1.3 kB)\n",
      "Requirement already satisfied: langchain-core<0.3,>=0.1.46 in c:\\users\\ravis\\appdata\\local\\programs\\python\\python311\\lib\\site-packages (from langchain-nomic) (0.2.7)\n",
      "Collecting nomic<4.0.0,>=3.0.29 (from langchain-nomic)\n",
      "  Downloading nomic-3.0.33.tar.gz (43 kB)\n",
      "     ---------------------------------------- 0.0/43.9 kB ? eta -:--:--\n",
      "     --------- ------------------------------ 10.2/43.9 kB ? eta -:--:--\n",
      "     ----------------- -------------------- 20.5/43.9 kB 222.6 kB/s eta 0:00:01\n",
      "     -------------------------------------- 43.9/43.9 kB 362.2 kB/s eta 0:00:00\n",
      "  Installing build dependencies: started\n",
      "  Installing build dependencies: finished with status 'done'\n",
      "  Getting requirements to build wheel: started\n",
      "  Getting requirements to build wheel: finished with status 'done'\n",
      "  Preparing metadata (pyproject.toml): started\n",
      "  Preparing metadata (pyproject.toml): finished with status 'done'\n",
      "Collecting pillow<11.0.0,>=10.3.0 (from langchain-nomic)\n",
      "  Downloading pillow-10.3.0-cp311-cp311-win_amd64.whl.metadata (9.4 kB)\n",
      "Requirement already satisfied: PyYAML>=5.3 in c:\\users\\ravis\\appdata\\local\\programs\\python\\python311\\lib\\site-packages (from langchain-core<0.3,>=0.1.46->langchain-nomic) (6.0)\n",
      "Requirement already satisfied: jsonpatch<2.0,>=1.33 in c:\\users\\ravis\\appdata\\local\\programs\\python\\python311\\lib\\site-packages (from langchain-core<0.3,>=0.1.46->langchain-nomic) (1.33)\n",
      "Requirement already satisfied: langsmith<0.2.0,>=0.1.75 in c:\\users\\ravis\\appdata\\local\\programs\\python\\python311\\lib\\site-packages (from langchain-core<0.3,>=0.1.46->langchain-nomic) (0.1.77)\n",
      "Requirement already satisfied: packaging<25,>=23.2 in c:\\users\\ravis\\appdata\\local\\programs\\python\\python311\\lib\\site-packages (from langchain-core<0.3,>=0.1.46->langchain-nomic) (24.1)\n",
      "Requirement already satisfied: pydantic<3,>=1 in c:\\users\\ravis\\appdata\\local\\programs\\python\\python311\\lib\\site-packages (from langchain-core<0.3,>=0.1.46->langchain-nomic) (1.10.16)\n",
      "Requirement already satisfied: tenacity<9.0.0,>=8.1.0 in c:\\users\\ravis\\appdata\\local\\programs\\python\\python311\\lib\\site-packages (from langchain-core<0.3,>=0.1.46->langchain-nomic) (8.4.1)\n",
      "Requirement already satisfied: click in c:\\users\\ravis\\appdata\\local\\programs\\python\\python311\\lib\\site-packages (from nomic<4.0.0,>=3.0.29->langchain-nomic) (8.1.3)\n",
      "Collecting jsonlines (from nomic<4.0.0,>=3.0.29->langchain-nomic)\n",
      "  Downloading jsonlines-4.0.0-py3-none-any.whl.metadata (1.6 kB)\n",
      "Collecting loguru (from nomic<4.0.0,>=3.0.29->langchain-nomic)\n",
      "  Downloading loguru-0.7.2-py3-none-any.whl.metadata (23 kB)\n",
      "Requirement already satisfied: rich in c:\\users\\ravis\\appdata\\local\\programs\\python\\python311\\lib\\site-packages (from nomic<4.0.0,>=3.0.29->langchain-nomic) (13.6.0)\n",
      "Requirement already satisfied: requests in c:\\users\\ravis\\appdata\\local\\programs\\python\\python311\\lib\\site-packages (from nomic<4.0.0,>=3.0.29->langchain-nomic) (2.31.0)\n",
      "Requirement already satisfied: numpy in c:\\users\\ravis\\appdata\\roaming\\python\\python311\\site-packages (from nomic<4.0.0,>=3.0.29->langchain-nomic) (1.24.1)\n",
      "Requirement already satisfied: pandas in c:\\users\\ravis\\appdata\\local\\programs\\python\\python311\\lib\\site-packages (from nomic<4.0.0,>=3.0.29->langchain-nomic) (2.0.2)\n",
      "Requirement already satisfied: tqdm in c:\\users\\ravis\\appdata\\local\\programs\\python\\python311\\lib\\site-packages (from nomic<4.0.0,>=3.0.29->langchain-nomic) (4.65.0)\n",
      "Requirement already satisfied: pyarrow in c:\\users\\ravis\\appdata\\local\\programs\\python\\python311\\lib\\site-packages (from nomic<4.0.0,>=3.0.29->langchain-nomic) (12.0.1)\n",
      "Requirement already satisfied: pyjwt in c:\\users\\ravis\\appdata\\local\\programs\\python\\python311\\lib\\site-packages (from nomic<4.0.0,>=3.0.29->langchain-nomic) (2.8.0)\n",
      "Requirement already satisfied: jsonpointer>=1.9 in c:\\users\\ravis\\appdata\\local\\programs\\python\\python311\\lib\\site-packages (from jsonpatch<2.0,>=1.33->langchain-core<0.3,>=0.1.46->langchain-nomic) (2.4)\n",
      "Requirement already satisfied: orjson<4.0.0,>=3.9.14 in c:\\users\\ravis\\appdata\\local\\programs\\python\\python311\\lib\\site-packages (from langsmith<0.2.0,>=0.1.75->langchain-core<0.3,>=0.1.46->langchain-nomic) (3.10.5)\n",
      "Requirement already satisfied: typing-extensions>=4.2.0 in c:\\users\\ravis\\appdata\\local\\programs\\python\\python311\\lib\\site-packages (from pydantic<3,>=1->langchain-core<0.3,>=0.1.46->langchain-nomic) (4.8.0)\n",
      "Requirement already satisfied: charset-normalizer<4,>=2 in c:\\users\\ravis\\appdata\\roaming\\python\\python311\\site-packages (from requests->nomic<4.0.0,>=3.0.29->langchain-nomic) (2.1.1)\n",
      "Requirement already satisfied: idna<4,>=2.5 in c:\\users\\ravis\\appdata\\roaming\\python\\python311\\site-packages (from requests->nomic<4.0.0,>=3.0.29->langchain-nomic) (3.4)\n",
      "Requirement already satisfied: urllib3<3,>=1.21.1 in c:\\users\\ravis\\appdata\\local\\programs\\python\\python311\\lib\\site-packages (from requests->nomic<4.0.0,>=3.0.29->langchain-nomic) (1.26.13)\n",
      "Requirement already satisfied: certifi>=2017.4.17 in c:\\users\\ravis\\appdata\\roaming\\python\\python311\\site-packages (from requests->nomic<4.0.0,>=3.0.29->langchain-nomic) (2022.12.7)\n",
      "Requirement already satisfied: colorama in c:\\users\\ravis\\appdata\\local\\programs\\python\\python311\\lib\\site-packages (from click->nomic<4.0.0,>=3.0.29->langchain-nomic) (0.4.6)\n",
      "Requirement already satisfied: attrs>=19.2.0 in c:\\users\\ravis\\appdata\\local\\programs\\python\\python311\\lib\\site-packages (from jsonlines->nomic<4.0.0,>=3.0.29->langchain-nomic) (23.1.0)\n",
      "Collecting win32-setctime>=1.0.0 (from loguru->nomic<4.0.0,>=3.0.29->langchain-nomic)\n",
      "  Downloading win32_setctime-1.1.0-py3-none-any.whl.metadata (2.3 kB)\n",
      "Requirement already satisfied: python-dateutil>=2.8.2 in c:\\users\\ravis\\appdata\\local\\programs\\python\\python311\\lib\\site-packages (from pandas->nomic<4.0.0,>=3.0.29->langchain-nomic) (2.8.2)\n",
      "Requirement already satisfied: pytz>=2020.1 in c:\\users\\ravis\\appdata\\local\\programs\\python\\python311\\lib\\site-packages (from pandas->nomic<4.0.0,>=3.0.29->langchain-nomic) (2023.3)\n",
      "Requirement already satisfied: tzdata>=2022.1 in c:\\users\\ravis\\appdata\\local\\programs\\python\\python311\\lib\\site-packages (from pandas->nomic<4.0.0,>=3.0.29->langchain-nomic) (2023.3)\n",
      "Requirement already satisfied: markdown-it-py>=2.2.0 in c:\\users\\ravis\\appdata\\local\\programs\\python\\python311\\lib\\site-packages (from rich->nomic<4.0.0,>=3.0.29->langchain-nomic) (3.0.0)\n",
      "Requirement already satisfied: pygments<3.0.0,>=2.13.0 in c:\\users\\ravis\\appdata\\roaming\\python\\python311\\site-packages (from rich->nomic<4.0.0,>=3.0.29->langchain-nomic) (2.16.1)\n",
      "Requirement already satisfied: mdurl~=0.1 in c:\\users\\ravis\\appdata\\local\\programs\\python\\python311\\lib\\site-packages (from markdown-it-py>=2.2.0->rich->nomic<4.0.0,>=3.0.29->langchain-nomic) (0.1.2)\n",
      "Requirement already satisfied: six>=1.5 in c:\\users\\ravis\\appdata\\local\\programs\\python\\python311\\lib\\site-packages (from python-dateutil>=2.8.2->pandas->nomic<4.0.0,>=3.0.29->langchain-nomic) (1.16.0)\n",
      "Downloading langchain_nomic-0.1.2-py3-none-any.whl (3.8 kB)\n",
      "Downloading pillow-10.3.0-cp311-cp311-win_amd64.whl (2.5 MB)\n",
      "   ---------------------------------------- 0.0/2.5 MB ? eta -:--:--\n",
      "   ------------ --------------------------- 0.8/2.5 MB 16.3 MB/s eta 0:00:01\n",
      "   --------------- ------------------------ 1.0/2.5 MB 12.3 MB/s eta 0:00:01\n",
      "   ---------------------------- ----------- 1.8/2.5 MB 12.6 MB/s eta 0:00:01\n",
      "   ---------------------------------------  2.5/2.5 MB 14.6 MB/s eta 0:00:01\n",
      "   ---------------------------------------- 2.5/2.5 MB 12.4 MB/s eta 0:00:00\n",
      "Downloading jsonlines-4.0.0-py3-none-any.whl (8.7 kB)\n",
      "Downloading loguru-0.7.2-py3-none-any.whl (62 kB)\n",
      "   ---------------------------------------- 0.0/62.5 kB ? eta -:--:--\n",
      "   ---------------------------------------- 62.5/62.5 kB ? eta 0:00:00\n",
      "Downloading win32_setctime-1.1.0-py3-none-any.whl (3.6 kB)\n",
      "Building wheels for collected packages: nomic\n",
      "  Building wheel for nomic (pyproject.toml): started\n",
      "  Building wheel for nomic (pyproject.toml): finished with status 'done'\n",
      "  Created wheel for nomic: filename=nomic-3.0.33-py3-none-any.whl size=44376 sha256=10c6d605fa423eeec7475674c8b1ea1caf28688663a943725fec63dd2e094af3\n",
      "  Stored in directory: c:\\users\\ravis\\appdata\\local\\pip\\cache\\wheels\\d8\\6b\\d4\\bb14f1d4329b973a16219a7264cabdd73e625b383f7c6b1c71\n",
      "Successfully built nomic\n",
      "Installing collected packages: win32-setctime, pillow, jsonlines, loguru, nomic, langchain-nomic\n",
      "  Attempting uninstall: pillow\n",
      "    Found existing installation: Pillow 9.3.0\n",
      "    Uninstalling Pillow-9.3.0:\n",
      "      Successfully uninstalled Pillow-9.3.0\n",
      "Successfully installed jsonlines-4.0.0 langchain-nomic-0.1.2 loguru-0.7.2 nomic-3.0.33 pillow-10.3.0 win32-setctime-1.1.0\n",
      "Note: you may need to restart the kernel to use updated packages.\n"
     ]
    }
   ],
   "source": [
    "pip install langchain-nomic"
   ]
  }
 ],
 "metadata": {
  "kernelspec": {
   "display_name": "Python 3 (ipykernel)",
   "language": "python",
   "name": "python3"
  },
  "language_info": {
   "codemirror_mode": {
    "name": "ipython",
    "version": 3
   },
   "file_extension": ".py",
   "mimetype": "text/x-python",
   "name": "python",
   "nbconvert_exporter": "python",
   "pygments_lexer": "ipython3",
   "version": "3.11.5"
  }
 },
 "nbformat": 4,
 "nbformat_minor": 5
}
